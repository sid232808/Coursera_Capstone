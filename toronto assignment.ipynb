{
 "cells": [
  {
   "cell_type": "markdown",
   "metadata": {},
   "source": [
    "##  Question 1 solution"
   ]
  },
  {
   "cell_type": "markdown",
   "metadata": {},
   "source": [
    "This notebook explore, segment, and cluster the neighborhoods in the city of Toronto"
   ]
  },
  {
   "cell_type": "markdown",
   "metadata": {},
   "source": [
    "The notebook contains all the three parts solution for the questions."
   ]
  },
  {
   "cell_type": "code",
   "execution_count": 2,
   "metadata": {},
   "outputs": [],
   "source": [
    "#importing required libraries files \n",
    "import pandas as pd \n",
    "import wikipedia as wp\n",
    "from bs4 import BeautifulSoup\n",
    "import requests"
   ]
  },
  {
   "cell_type": "markdown",
   "metadata": {},
   "source": [
    "using request method get the web page"
   ]
  },
  {
   "cell_type": "code",
   "execution_count": 3,
   "metadata": {},
   "outputs": [],
   "source": [
    "url = requests.get('https://en.wikipedia.org/wiki/List_of_postal_codes_of_Canada:_M').text"
   ]
  },
  {
   "cell_type": "markdown",
   "metadata": {},
   "source": [
    "read the data from the file"
   ]
  },
  {
   "cell_type": "code",
   "execution_count": 4,
   "metadata": {},
   "outputs": [],
   "source": [
    "from bs4 import BeautifulSoup\n",
    "soup = BeautifulSoup(url,'lxml')\n",
    "#print(soup.prettify())"
   ]
  },
  {
   "cell_type": "code",
   "execution_count": 5,
   "metadata": {},
   "outputs": [
    {
     "name": "stdout",
     "output_type": "stream",
     "text": [
      "\n",
      "Postcode\n",
      "Borough\n",
      "Neighbourhood\n",
      "\n"
     ]
    }
   ],
   "source": [
    "table = soup.find('table',{'class':'wikitable sortable'})\n",
    "#table\n",
    "print(table.tr.text)\n"
   ]
  },
  {
   "cell_type": "code",
   "execution_count": 6,
   "metadata": {},
   "outputs": [],
   "source": [
    "headers=\"Postcode,Borough,Neighbourhood\""
   ]
  },
  {
   "cell_type": "code",
   "execution_count": 7,
   "metadata": {},
   "outputs": [],
   "source": [
    "#df = pd.read_html(table, header = 0)[0]\n",
    "#df = df[df.Borough != 'Not assigned']\n",
    "\n",
    "mytable=\"\"\n",
    "for tr in table.find_all('tr'):\n",
    "    row1=\"\"\n",
    "    for tds in tr.find_all('td'):\n",
    "        row1=row1+\",\"+tds.text\n",
    "    mytable=mytable+row1[1:]\n",
    "\n"
   ]
  },
  {
   "cell_type": "markdown",
   "metadata": {},
   "source": [
    "change the data to a csv file"
   ]
  },
  {
   "cell_type": "code",
   "execution_count": 8,
   "metadata": {},
   "outputs": [
    {
     "data": {
      "text/plain": [
       "8738"
      ]
     },
     "execution_count": 8,
     "metadata": {},
     "output_type": "execute_result"
    }
   ],
   "source": [
    "file=open(\"neighbour.csv\",\"wb\")\n",
    "file.write(bytes(mytable,encoding=\"ascii\",errors=\"ignore\"))"
   ]
  },
  {
   "cell_type": "code",
   "execution_count": 9,
   "metadata": {},
   "outputs": [],
   "source": [
    "import pandas as pd\n",
    "df = pd.read_csv('neighbour.csv',header=None)\n",
    "df.columns=[\"Postalcode\",\"Borough\",\"Neighbourhood\"]"
   ]
  },
  {
   "cell_type": "code",
   "execution_count": 10,
   "metadata": {},
   "outputs": [
    {
     "data": {
      "text/html": [
       "<div>\n",
       "<style scoped>\n",
       "    .dataframe tbody tr th:only-of-type {\n",
       "        vertical-align: middle;\n",
       "    }\n",
       "\n",
       "    .dataframe tbody tr th {\n",
       "        vertical-align: top;\n",
       "    }\n",
       "\n",
       "    .dataframe thead th {\n",
       "        text-align: right;\n",
       "    }\n",
       "</style>\n",
       "<table border=\"1\" class=\"dataframe\">\n",
       "  <thead>\n",
       "    <tr style=\"text-align: right;\">\n",
       "      <th></th>\n",
       "      <th>Postalcode</th>\n",
       "      <th>Borough</th>\n",
       "      <th>Neighbourhood</th>\n",
       "    </tr>\n",
       "  </thead>\n",
       "  <tbody>\n",
       "    <tr>\n",
       "      <th>0</th>\n",
       "      <td>M1A</td>\n",
       "      <td>Not assigned</td>\n",
       "      <td>Not assigned</td>\n",
       "    </tr>\n",
       "    <tr>\n",
       "      <th>1</th>\n",
       "      <td>M2A</td>\n",
       "      <td>Not assigned</td>\n",
       "      <td>Not assigned</td>\n",
       "    </tr>\n",
       "    <tr>\n",
       "      <th>2</th>\n",
       "      <td>M3A</td>\n",
       "      <td>North York</td>\n",
       "      <td>Parkwoods</td>\n",
       "    </tr>\n",
       "    <tr>\n",
       "      <th>3</th>\n",
       "      <td>M4A</td>\n",
       "      <td>North York</td>\n",
       "      <td>Victoria Village</td>\n",
       "    </tr>\n",
       "    <tr>\n",
       "      <th>4</th>\n",
       "      <td>M5A</td>\n",
       "      <td>Downtown Toronto</td>\n",
       "      <td>Harbourfront</td>\n",
       "    </tr>\n",
       "  </tbody>\n",
       "</table>\n",
       "</div>"
      ],
      "text/plain": [
       "  Postalcode           Borough     Neighbourhood\n",
       "0        M1A      Not assigned      Not assigned\n",
       "1        M2A      Not assigned      Not assigned\n",
       "2        M3A        North York         Parkwoods\n",
       "3        M4A        North York  Victoria Village\n",
       "4        M5A  Downtown Toronto      Harbourfront"
      ]
     },
     "execution_count": 10,
     "metadata": {},
     "output_type": "execute_result"
    }
   ],
   "source": [
    "df.head()"
   ]
  },
  {
   "cell_type": "code",
   "execution_count": 14,
   "metadata": {},
   "outputs": [
    {
     "data": {
      "text/plain": [
       "(211, 3)"
      ]
     },
     "execution_count": 14,
     "metadata": {},
     "output_type": "execute_result"
    }
   ],
   "source": [
    "df.shape"
   ]
  },
  {
   "cell_type": "markdown",
   "metadata": {},
   "source": [
    "delete the rows with not assigned values"
   ]
  },
  {
   "cell_type": "code",
   "execution_count": 15,
   "metadata": {},
   "outputs": [],
   "source": [
    "indexNames = df[ df['Borough'] =='Not assigned'].index\n",
    "df.drop(indexNames , inplace=True)"
   ]
  },
  {
   "cell_type": "code",
   "execution_count": 16,
   "metadata": {},
   "outputs": [
    {
     "data": {
      "text/html": [
       "<div>\n",
       "<style scoped>\n",
       "    .dataframe tbody tr th:only-of-type {\n",
       "        vertical-align: middle;\n",
       "    }\n",
       "\n",
       "    .dataframe tbody tr th {\n",
       "        vertical-align: top;\n",
       "    }\n",
       "\n",
       "    .dataframe thead th {\n",
       "        text-align: right;\n",
       "    }\n",
       "</style>\n",
       "<table border=\"1\" class=\"dataframe\">\n",
       "  <thead>\n",
       "    <tr style=\"text-align: right;\">\n",
       "      <th></th>\n",
       "      <th>Postalcode</th>\n",
       "      <th>Borough</th>\n",
       "      <th>Neighbourhood</th>\n",
       "    </tr>\n",
       "  </thead>\n",
       "  <tbody>\n",
       "    <tr>\n",
       "      <th>2</th>\n",
       "      <td>M3A</td>\n",
       "      <td>North York</td>\n",
       "      <td>Parkwoods</td>\n",
       "    </tr>\n",
       "    <tr>\n",
       "      <th>3</th>\n",
       "      <td>M4A</td>\n",
       "      <td>North York</td>\n",
       "      <td>Victoria Village</td>\n",
       "    </tr>\n",
       "    <tr>\n",
       "      <th>4</th>\n",
       "      <td>M5A</td>\n",
       "      <td>Downtown Toronto</td>\n",
       "      <td>Harbourfront</td>\n",
       "    </tr>\n",
       "    <tr>\n",
       "      <th>5</th>\n",
       "      <td>M5A</td>\n",
       "      <td>Downtown Toronto</td>\n",
       "      <td>Regent Park</td>\n",
       "    </tr>\n",
       "    <tr>\n",
       "      <th>6</th>\n",
       "      <td>M6A</td>\n",
       "      <td>North York</td>\n",
       "      <td>Lawrence Heights</td>\n",
       "    </tr>\n",
       "  </tbody>\n",
       "</table>\n",
       "</div>"
      ],
      "text/plain": [
       "  Postalcode           Borough     Neighbourhood\n",
       "2        M3A        North York         Parkwoods\n",
       "3        M4A        North York  Victoria Village\n",
       "4        M5A  Downtown Toronto      Harbourfront\n",
       "5        M5A  Downtown Toronto       Regent Park\n",
       "6        M6A        North York  Lawrence Heights"
      ]
     },
     "execution_count": 16,
     "metadata": {},
     "output_type": "execute_result"
    }
   ],
   "source": [
    "df.head()"
   ]
  },
  {
   "cell_type": "code",
   "execution_count": 17,
   "metadata": {},
   "outputs": [
    {
     "data": {
      "text/plain": [
       "(211, 3)"
      ]
     },
     "execution_count": 17,
     "metadata": {},
     "output_type": "execute_result"
    }
   ],
   "source": [
    "df.shape"
   ]
  },
  {
   "cell_type": "markdown",
   "metadata": {},
   "source": [
    "assigning the same neighbourhood to borough if neighbourhood is not defined"
   ]
  },
  {
   "cell_type": "code",
   "execution_count": 18,
   "metadata": {},
   "outputs": [
    {
     "data": {
      "text/html": [
       "<div>\n",
       "<style scoped>\n",
       "    .dataframe tbody tr th:only-of-type {\n",
       "        vertical-align: middle;\n",
       "    }\n",
       "\n",
       "    .dataframe tbody tr th {\n",
       "        vertical-align: top;\n",
       "    }\n",
       "\n",
       "    .dataframe thead th {\n",
       "        text-align: right;\n",
       "    }\n",
       "</style>\n",
       "<table border=\"1\" class=\"dataframe\">\n",
       "  <thead>\n",
       "    <tr style=\"text-align: right;\">\n",
       "      <th></th>\n",
       "      <th>Postalcode</th>\n",
       "      <th>Borough</th>\n",
       "      <th>Neighbourhood</th>\n",
       "    </tr>\n",
       "  </thead>\n",
       "  <tbody>\n",
       "    <tr>\n",
       "      <th>2</th>\n",
       "      <td>M3A</td>\n",
       "      <td>North York</td>\n",
       "      <td>Parkwoods</td>\n",
       "    </tr>\n",
       "    <tr>\n",
       "      <th>3</th>\n",
       "      <td>M4A</td>\n",
       "      <td>North York</td>\n",
       "      <td>Victoria Village</td>\n",
       "    </tr>\n",
       "    <tr>\n",
       "      <th>4</th>\n",
       "      <td>M5A</td>\n",
       "      <td>Downtown Toronto</td>\n",
       "      <td>Harbourfront</td>\n",
       "    </tr>\n",
       "    <tr>\n",
       "      <th>5</th>\n",
       "      <td>M5A</td>\n",
       "      <td>Downtown Toronto</td>\n",
       "      <td>Regent Park</td>\n",
       "    </tr>\n",
       "    <tr>\n",
       "      <th>6</th>\n",
       "      <td>M6A</td>\n",
       "      <td>North York</td>\n",
       "      <td>Lawrence Heights</td>\n",
       "    </tr>\n",
       "    <tr>\n",
       "      <th>7</th>\n",
       "      <td>M6A</td>\n",
       "      <td>North York</td>\n",
       "      <td>Lawrence Manor</td>\n",
       "    </tr>\n",
       "    <tr>\n",
       "      <th>8</th>\n",
       "      <td>M7A</td>\n",
       "      <td>Queen's Park</td>\n",
       "      <td>Queen's Park</td>\n",
       "    </tr>\n",
       "    <tr>\n",
       "      <th>10</th>\n",
       "      <td>M9A</td>\n",
       "      <td>Etobicoke</td>\n",
       "      <td>Islington Avenue</td>\n",
       "    </tr>\n",
       "    <tr>\n",
       "      <th>11</th>\n",
       "      <td>M1B</td>\n",
       "      <td>Scarborough</td>\n",
       "      <td>Rouge</td>\n",
       "    </tr>\n",
       "    <tr>\n",
       "      <th>12</th>\n",
       "      <td>M1B</td>\n",
       "      <td>Scarborough</td>\n",
       "      <td>Malvern</td>\n",
       "    </tr>\n",
       "    <tr>\n",
       "      <th>14</th>\n",
       "      <td>M3B</td>\n",
       "      <td>North York</td>\n",
       "      <td>Don Mills North</td>\n",
       "    </tr>\n",
       "    <tr>\n",
       "      <th>15</th>\n",
       "      <td>M4B</td>\n",
       "      <td>East York</td>\n",
       "      <td>Woodbine Gardens</td>\n",
       "    </tr>\n",
       "  </tbody>\n",
       "</table>\n",
       "</div>"
      ],
      "text/plain": [
       "   Postalcode           Borough     Neighbourhood\n",
       "2         M3A        North York         Parkwoods\n",
       "3         M4A        North York  Victoria Village\n",
       "4         M5A  Downtown Toronto      Harbourfront\n",
       "5         M5A  Downtown Toronto       Regent Park\n",
       "6         M6A        North York  Lawrence Heights\n",
       "7         M6A        North York    Lawrence Manor\n",
       "8         M7A      Queen's Park      Queen's Park\n",
       "10        M9A         Etobicoke  Islington Avenue\n",
       "11        M1B       Scarborough             Rouge\n",
       "12        M1B       Scarborough           Malvern\n",
       "14        M3B        North York   Don Mills North\n",
       "15        M4B         East York  Woodbine Gardens"
      ]
     },
     "execution_count": 18,
     "metadata": {},
     "output_type": "execute_result"
    }
   ],
   "source": [
    "df.loc[df['Neighbourhood'] =='Not assigned' , 'Neighbourhood'] = df['Borough']\n",
    "df.head(12)"
   ]
  },
  {
   "cell_type": "markdown",
   "metadata": {},
   "source": [
    "combining rows with same postal code"
   ]
  },
  {
   "cell_type": "code",
   "execution_count": 19,
   "metadata": {},
   "outputs": [],
   "source": [
    "result = df.groupby(['Postalcode','Borough'], sort=False).agg( ', '.join)\n",
    "df_tor=result.reset_index()"
   ]
  },
  {
   "cell_type": "code",
   "execution_count": 20,
   "metadata": {},
   "outputs": [
    {
     "data": {
      "text/html": [
       "<div>\n",
       "<style scoped>\n",
       "    .dataframe tbody tr th:only-of-type {\n",
       "        vertical-align: middle;\n",
       "    }\n",
       "\n",
       "    .dataframe tbody tr th {\n",
       "        vertical-align: top;\n",
       "    }\n",
       "\n",
       "    .dataframe thead th {\n",
       "        text-align: right;\n",
       "    }\n",
       "</style>\n",
       "<table border=\"1\" class=\"dataframe\">\n",
       "  <thead>\n",
       "    <tr style=\"text-align: right;\">\n",
       "      <th></th>\n",
       "      <th>Postalcode</th>\n",
       "      <th>Borough</th>\n",
       "      <th>Neighbourhood</th>\n",
       "    </tr>\n",
       "  </thead>\n",
       "  <tbody>\n",
       "    <tr>\n",
       "      <th>0</th>\n",
       "      <td>M3A</td>\n",
       "      <td>North York</td>\n",
       "      <td>Parkwoods</td>\n",
       "    </tr>\n",
       "    <tr>\n",
       "      <th>1</th>\n",
       "      <td>M4A</td>\n",
       "      <td>North York</td>\n",
       "      <td>Victoria Village</td>\n",
       "    </tr>\n",
       "    <tr>\n",
       "      <th>2</th>\n",
       "      <td>M5A</td>\n",
       "      <td>Downtown Toronto</td>\n",
       "      <td>Harbourfront, Regent Park</td>\n",
       "    </tr>\n",
       "    <tr>\n",
       "      <th>3</th>\n",
       "      <td>M6A</td>\n",
       "      <td>North York</td>\n",
       "      <td>Lawrence Heights, Lawrence Manor</td>\n",
       "    </tr>\n",
       "    <tr>\n",
       "      <th>4</th>\n",
       "      <td>M7A</td>\n",
       "      <td>Queen's Park</td>\n",
       "      <td>Queen's Park</td>\n",
       "    </tr>\n",
       "    <tr>\n",
       "      <th>5</th>\n",
       "      <td>M9A</td>\n",
       "      <td>Etobicoke</td>\n",
       "      <td>Islington Avenue</td>\n",
       "    </tr>\n",
       "    <tr>\n",
       "      <th>6</th>\n",
       "      <td>M1B</td>\n",
       "      <td>Scarborough</td>\n",
       "      <td>Rouge, Malvern</td>\n",
       "    </tr>\n",
       "    <tr>\n",
       "      <th>7</th>\n",
       "      <td>M3B</td>\n",
       "      <td>North York</td>\n",
       "      <td>Don Mills North</td>\n",
       "    </tr>\n",
       "    <tr>\n",
       "      <th>8</th>\n",
       "      <td>M4B</td>\n",
       "      <td>East York</td>\n",
       "      <td>Woodbine Gardens, Parkview Hill</td>\n",
       "    </tr>\n",
       "    <tr>\n",
       "      <th>9</th>\n",
       "      <td>M5B</td>\n",
       "      <td>Downtown Toronto</td>\n",
       "      <td>Ryerson, Garden District</td>\n",
       "    </tr>\n",
       "    <tr>\n",
       "      <th>10</th>\n",
       "      <td>M6B</td>\n",
       "      <td>North York</td>\n",
       "      <td>Glencairn</td>\n",
       "    </tr>\n",
       "    <tr>\n",
       "      <th>11</th>\n",
       "      <td>M9B</td>\n",
       "      <td>Etobicoke</td>\n",
       "      <td>Cloverdale, Islington, Martin Grove, Princess ...</td>\n",
       "    </tr>\n",
       "  </tbody>\n",
       "</table>\n",
       "</div>"
      ],
      "text/plain": [
       "   Postalcode           Borough  \\\n",
       "0         M3A        North York   \n",
       "1         M4A        North York   \n",
       "2         M5A  Downtown Toronto   \n",
       "3         M6A        North York   \n",
       "4         M7A      Queen's Park   \n",
       "5         M9A         Etobicoke   \n",
       "6         M1B       Scarborough   \n",
       "7         M3B        North York   \n",
       "8         M4B         East York   \n",
       "9         M5B  Downtown Toronto   \n",
       "10        M6B        North York   \n",
       "11        M9B         Etobicoke   \n",
       "\n",
       "                                        Neighbourhood  \n",
       "0                                           Parkwoods  \n",
       "1                                    Victoria Village  \n",
       "2                           Harbourfront, Regent Park  \n",
       "3                    Lawrence Heights, Lawrence Manor  \n",
       "4                                        Queen's Park  \n",
       "5                                    Islington Avenue  \n",
       "6                                      Rouge, Malvern  \n",
       "7                                     Don Mills North  \n",
       "8                     Woodbine Gardens, Parkview Hill  \n",
       "9                            Ryerson, Garden District  \n",
       "10                                          Glencairn  \n",
       "11  Cloverdale, Islington, Martin Grove, Princess ...  "
      ]
     },
     "execution_count": 20,
     "metadata": {},
     "output_type": "execute_result"
    }
   ],
   "source": [
    "df_tor.head(12)"
   ]
  },
  {
   "cell_type": "markdown",
   "metadata": {},
   "source": [
    "getting the shape of data frame"
   ]
  },
  {
   "cell_type": "code",
   "execution_count": 21,
   "metadata": {},
   "outputs": [
    {
     "data": {
      "text/plain": [
       "(103, 3)"
      ]
     },
     "execution_count": 21,
     "metadata": {},
     "output_type": "execute_result"
    }
   ],
   "source": [
    "df_tor.shape"
   ]
  },
  {
   "cell_type": "markdown",
   "metadata": {},
   "source": [
    "## Question 2 solution"
   ]
  },
  {
   "cell_type": "code",
   "execution_count": 22,
   "metadata": {},
   "outputs": [
    {
     "name": "stderr",
     "output_type": "stream",
     "text": [
      "'wget' is not recognized as an internal or external command,\n",
      "operable program or batch file.\n"
     ]
    },
    {
     "data": {
      "text/html": [
       "<div>\n",
       "<style scoped>\n",
       "    .dataframe tbody tr th:only-of-type {\n",
       "        vertical-align: middle;\n",
       "    }\n",
       "\n",
       "    .dataframe tbody tr th {\n",
       "        vertical-align: top;\n",
       "    }\n",
       "\n",
       "    .dataframe thead th {\n",
       "        text-align: right;\n",
       "    }\n",
       "</style>\n",
       "<table border=\"1\" class=\"dataframe\">\n",
       "  <thead>\n",
       "    <tr style=\"text-align: right;\">\n",
       "      <th></th>\n",
       "      <th>Postal Code</th>\n",
       "      <th>Latitude</th>\n",
       "      <th>Longitude</th>\n",
       "    </tr>\n",
       "  </thead>\n",
       "  <tbody>\n",
       "    <tr>\n",
       "      <th>0</th>\n",
       "      <td>M1B</td>\n",
       "      <td>43.806686</td>\n",
       "      <td>-79.194353</td>\n",
       "    </tr>\n",
       "    <tr>\n",
       "      <th>1</th>\n",
       "      <td>M1C</td>\n",
       "      <td>43.784535</td>\n",
       "      <td>-79.160497</td>\n",
       "    </tr>\n",
       "    <tr>\n",
       "      <th>2</th>\n",
       "      <td>M1E</td>\n",
       "      <td>43.763573</td>\n",
       "      <td>-79.188711</td>\n",
       "    </tr>\n",
       "    <tr>\n",
       "      <th>3</th>\n",
       "      <td>M1G</td>\n",
       "      <td>43.770992</td>\n",
       "      <td>-79.216917</td>\n",
       "    </tr>\n",
       "    <tr>\n",
       "      <th>4</th>\n",
       "      <td>M1H</td>\n",
       "      <td>43.773136</td>\n",
       "      <td>-79.239476</td>\n",
       "    </tr>\n",
       "  </tbody>\n",
       "</table>\n",
       "</div>"
      ],
      "text/plain": [
       "  Postal Code   Latitude  Longitude\n",
       "0         M1B  43.806686 -79.194353\n",
       "1         M1C  43.784535 -79.160497\n",
       "2         M1E  43.763573 -79.188711\n",
       "3         M1G  43.770992 -79.216917\n",
       "4         M1H  43.773136 -79.239476"
      ]
     },
     "execution_count": 22,
     "metadata": {},
     "output_type": "execute_result"
    }
   ],
   "source": [
    "!wget -q -O 'Geospatial_Coordinates.csv'\n",
    "df_loc = pd.read_csv('Geospatial_Coordinates.csv')\n",
    "df_loc.head()"
   ]
  },
  {
   "cell_type": "code",
   "execution_count": 23,
   "metadata": {},
   "outputs": [],
   "source": [
    "#!wget -q -O 'Toronto_long_lat_data.csv'  http://cocl.us/Geospatial_data\n",
    "#df_lon_lat = pd.read_csv('Toronto_long_lat_data.csv')\n",
    "#df_lon_lat.head()\n",
    "df_loc.columns=['Postalcode','Latitude','Longitude']"
   ]
  },
  {
   "cell_type": "code",
   "execution_count": 101,
   "metadata": {},
   "outputs": [
    {
     "data": {
      "text/html": [
       "<div>\n",
       "<style scoped>\n",
       "    .dataframe tbody tr th:only-of-type {\n",
       "        vertical-align: middle;\n",
       "    }\n",
       "\n",
       "    .dataframe tbody tr th {\n",
       "        vertical-align: top;\n",
       "    }\n",
       "\n",
       "    .dataframe thead th {\n",
       "        text-align: right;\n",
       "    }\n",
       "</style>\n",
       "<table border=\"1\" class=\"dataframe\">\n",
       "  <thead>\n",
       "    <tr style=\"text-align: right;\">\n",
       "      <th></th>\n",
       "      <th>Postalcode</th>\n",
       "      <th>Latitude</th>\n",
       "      <th>Longitude</th>\n",
       "    </tr>\n",
       "  </thead>\n",
       "  <tbody>\n",
       "    <tr>\n",
       "      <th>0</th>\n",
       "      <td>M1B</td>\n",
       "      <td>43.806686</td>\n",
       "      <td>-79.194353</td>\n",
       "    </tr>\n",
       "    <tr>\n",
       "      <th>1</th>\n",
       "      <td>M1C</td>\n",
       "      <td>43.784535</td>\n",
       "      <td>-79.160497</td>\n",
       "    </tr>\n",
       "    <tr>\n",
       "      <th>2</th>\n",
       "      <td>M1E</td>\n",
       "      <td>43.763573</td>\n",
       "      <td>-79.188711</td>\n",
       "    </tr>\n",
       "    <tr>\n",
       "      <th>3</th>\n",
       "      <td>M1G</td>\n",
       "      <td>43.770992</td>\n",
       "      <td>-79.216917</td>\n",
       "    </tr>\n",
       "    <tr>\n",
       "      <th>4</th>\n",
       "      <td>M1H</td>\n",
       "      <td>43.773136</td>\n",
       "      <td>-79.239476</td>\n",
       "    </tr>\n",
       "  </tbody>\n",
       "</table>\n",
       "</div>"
      ],
      "text/plain": [
       "  Postalcode   Latitude  Longitude\n",
       "0        M1B  43.806686 -79.194353\n",
       "1        M1C  43.784535 -79.160497\n",
       "2        M1E  43.763573 -79.188711\n",
       "3        M1G  43.770992 -79.216917\n",
       "4        M1H  43.773136 -79.239476"
      ]
     },
     "execution_count": 101,
     "metadata": {},
     "output_type": "execute_result"
    }
   ],
   "source": [
    "df_loc.head()"
   ]
  },
  {
   "cell_type": "code",
   "execution_count": 31,
   "metadata": {},
   "outputs": [
    {
     "data": {
      "text/html": [
       "<div>\n",
       "<style scoped>\n",
       "    .dataframe tbody tr th:only-of-type {\n",
       "        vertical-align: middle;\n",
       "    }\n",
       "\n",
       "    .dataframe tbody tr th {\n",
       "        vertical-align: top;\n",
       "    }\n",
       "\n",
       "    .dataframe thead th {\n",
       "        text-align: right;\n",
       "    }\n",
       "</style>\n",
       "<table border=\"1\" class=\"dataframe\">\n",
       "  <thead>\n",
       "    <tr style=\"text-align: right;\">\n",
       "      <th></th>\n",
       "      <th>Postalcode</th>\n",
       "      <th>Borough</th>\n",
       "      <th>Neighbourhood</th>\n",
       "      <th>Latitude</th>\n",
       "      <th>Longitude</th>\n",
       "    </tr>\n",
       "  </thead>\n",
       "  <tbody>\n",
       "    <tr>\n",
       "      <th>0</th>\n",
       "      <td>M3A</td>\n",
       "      <td>North York</td>\n",
       "      <td>Parkwoods</td>\n",
       "      <td>43.753259</td>\n",
       "      <td>-79.329656</td>\n",
       "    </tr>\n",
       "    <tr>\n",
       "      <th>1</th>\n",
       "      <td>M4A</td>\n",
       "      <td>North York</td>\n",
       "      <td>Victoria Village</td>\n",
       "      <td>43.725882</td>\n",
       "      <td>-79.315572</td>\n",
       "    </tr>\n",
       "    <tr>\n",
       "      <th>2</th>\n",
       "      <td>M5A</td>\n",
       "      <td>Downtown Toronto</td>\n",
       "      <td>Harbourfront, Regent Park</td>\n",
       "      <td>43.654260</td>\n",
       "      <td>-79.360636</td>\n",
       "    </tr>\n",
       "    <tr>\n",
       "      <th>3</th>\n",
       "      <td>M6A</td>\n",
       "      <td>North York</td>\n",
       "      <td>Lawrence Heights, Lawrence Manor</td>\n",
       "      <td>43.718518</td>\n",
       "      <td>-79.464763</td>\n",
       "    </tr>\n",
       "    <tr>\n",
       "      <th>4</th>\n",
       "      <td>M7A</td>\n",
       "      <td>Queen's Park</td>\n",
       "      <td>Queen's Park</td>\n",
       "      <td>43.662301</td>\n",
       "      <td>-79.389494</td>\n",
       "    </tr>\n",
       "    <tr>\n",
       "      <th>5</th>\n",
       "      <td>M9A</td>\n",
       "      <td>Etobicoke</td>\n",
       "      <td>Islington Avenue</td>\n",
       "      <td>43.667856</td>\n",
       "      <td>-79.532242</td>\n",
       "    </tr>\n",
       "    <tr>\n",
       "      <th>6</th>\n",
       "      <td>M1B</td>\n",
       "      <td>Scarborough</td>\n",
       "      <td>Rouge, Malvern</td>\n",
       "      <td>43.806686</td>\n",
       "      <td>-79.194353</td>\n",
       "    </tr>\n",
       "    <tr>\n",
       "      <th>7</th>\n",
       "      <td>M3B</td>\n",
       "      <td>North York</td>\n",
       "      <td>Don Mills North</td>\n",
       "      <td>43.745906</td>\n",
       "      <td>-79.352188</td>\n",
       "    </tr>\n",
       "    <tr>\n",
       "      <th>8</th>\n",
       "      <td>M4B</td>\n",
       "      <td>East York</td>\n",
       "      <td>Woodbine Gardens, Parkview Hill</td>\n",
       "      <td>43.706397</td>\n",
       "      <td>-79.309937</td>\n",
       "    </tr>\n",
       "    <tr>\n",
       "      <th>9</th>\n",
       "      <td>M5B</td>\n",
       "      <td>Downtown Toronto</td>\n",
       "      <td>Ryerson, Garden District</td>\n",
       "      <td>43.657162</td>\n",
       "      <td>-79.378937</td>\n",
       "    </tr>\n",
       "    <tr>\n",
       "      <th>10</th>\n",
       "      <td>M6B</td>\n",
       "      <td>North York</td>\n",
       "      <td>Glencairn</td>\n",
       "      <td>43.709577</td>\n",
       "      <td>-79.445073</td>\n",
       "    </tr>\n",
       "    <tr>\n",
       "      <th>11</th>\n",
       "      <td>M9B</td>\n",
       "      <td>Etobicoke</td>\n",
       "      <td>Cloverdale, Islington, Martin Grove, Princess ...</td>\n",
       "      <td>43.650943</td>\n",
       "      <td>-79.554724</td>\n",
       "    </tr>\n",
       "  </tbody>\n",
       "</table>\n",
       "</div>"
      ],
      "text/plain": [
       "   Postalcode           Borough  \\\n",
       "0         M3A        North York   \n",
       "1         M4A        North York   \n",
       "2         M5A  Downtown Toronto   \n",
       "3         M6A        North York   \n",
       "4         M7A      Queen's Park   \n",
       "5         M9A         Etobicoke   \n",
       "6         M1B       Scarborough   \n",
       "7         M3B        North York   \n",
       "8         M4B         East York   \n",
       "9         M5B  Downtown Toronto   \n",
       "10        M6B        North York   \n",
       "11        M9B         Etobicoke   \n",
       "\n",
       "                                        Neighbourhood   Latitude  Longitude  \n",
       "0                                           Parkwoods  43.753259 -79.329656  \n",
       "1                                    Victoria Village  43.725882 -79.315572  \n",
       "2                           Harbourfront, Regent Park  43.654260 -79.360636  \n",
       "3                    Lawrence Heights, Lawrence Manor  43.718518 -79.464763  \n",
       "4                                        Queen's Park  43.662301 -79.389494  \n",
       "5                                    Islington Avenue  43.667856 -79.532242  \n",
       "6                                      Rouge, Malvern  43.806686 -79.194353  \n",
       "7                                     Don Mills North  43.745906 -79.352188  \n",
       "8                     Woodbine Gardens, Parkview Hill  43.706397 -79.309937  \n",
       "9                            Ryerson, Garden District  43.657162 -79.378937  \n",
       "10                                          Glencairn  43.709577 -79.445073  \n",
       "11  Cloverdale, Islington, Martin Grove, Princess ...  43.650943 -79.554724  "
      ]
     },
     "execution_count": 31,
     "metadata": {},
     "output_type": "execute_result"
    }
   ],
   "source": [
    "df_postcode = df_tor.join(df_loc.set_index('Postalcode'), on='Postalcode')\n",
    "\n",
    "df_postcode.head(12)"
   ]
  },
  {
   "cell_type": "markdown",
   "metadata": {},
   "source": [
    "## Question 3"
   ]
  },
  {
   "cell_type": "code",
   "execution_count": 32,
   "metadata": {},
   "outputs": [
    {
     "name": "stdout",
     "output_type": "stream",
     "text": [
      "Libraries imported.\n"
     ]
    },
    {
     "data": {
      "text/html": [
       "<div style=\"width:100%;\"><div style=\"position:relative;width:100%;height:0;padding-bottom:60%;\"><iframe src=\"data:text/html;charset=utf-8;base64,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\" style=\"position:absolute;width:100%;height:100%;left:0;top:0;border:none !important;\" allowfullscreen webkitallowfullscreen mozallowfullscreen></iframe></div></div>"
      ],
      "text/plain": [
       "<folium.folium.Map at 0xa08bcc0>"
      ]
     },
     "execution_count": 32,
     "metadata": {},
     "output_type": "execute_result"
    }
   ],
   "source": [
    "# importing new libraries\n",
    "import numpy as np # library to handle data in a vectorized manner\n",
    "import pandas as pd # library for data analsysis\n",
    "pd.set_option('display.max_columns', None)\n",
    "pd.set_option('display.max_rows', None)\n",
    "\n",
    "# !conda install -c conda-forge geopy --yes # uncomment this line if you haven't completed the Foursquare API lab\n",
    "from geopy.geocoders import Nominatim # convert an address into latitude and longitude values\n",
    "\n",
    "import requests # library to handle requests\n",
    "\n",
    "# !conda install -c conda-forge folium=0.5.0 --yes # uncomment this line if you haven't completed the Foursquare API lab\n",
    "import folium # map rendering library\n",
    "\n",
    "print('Libraries imported.')\n",
    "# for the city Toronto, latitude and longtitude are manually extracted via google search\n",
    "toronto_latitude = 43.6532; toronto_longitude = -79.3832\n",
    "map_toronto = folium.Map(location = [toronto_latitude, toronto_longitude], zoom_start = 10.7)\n",
    "\n",
    "# add markers to map\n",
    "for lat, lng, borough, neighborhood in zip(df_postcode['Latitude'], df_postcode['Longitude'], df_postcode['Borough'], df_postcode['Neighbourhood']):\n",
    "    label = '{}, {}'.format(neighborhood, borough)\n",
    "    label = folium.Popup(label, parse_html=True)\n",
    "    folium.CircleMarker(\n",
    "        [lat, lng],\n",
    "        radius=5,\n",
    "        popup=label,\n",
    "        color='blue',\n",
    "        fill=True,\n",
    "        fill_color='#3186cc',\n",
    "        fill_opacity=0.7).add_to(map_toronto)  \n",
    "    \n",
    "\n",
    "map_toronto"
   ]
  },
  {
   "cell_type": "code",
   "execution_count": 36,
   "metadata": {},
   "outputs": [
    {
     "name": "stdout",
     "output_type": "stream",
     "text": [
      "The geograpical coordinate of Scarborough are 43.773077, -79.257774.\n"
     ]
    }
   ],
   "source": [
    "scarborough_data = df_postcode[df_postcode['Borough'] == 'Scarborough'].reset_index(drop=True)\n",
    "scarborough_data.head(7)\n",
    "address_scar = 'Scarborough,Toronto'\n",
    "latitude_scar = 43.773077\n",
    "longitude_scar = -79.257774\n",
    "print('The geograpical coordinate of Scarborough are {}, {}.'.format(latitude_scar, longitude_scar))\n"
   ]
  },
  {
   "cell_type": "code",
   "execution_count": 38,
   "metadata": {},
   "outputs": [
    {
     "data": {
      "text/html": [
       "<div style=\"width:100%;\"><div style=\"position:relative;width:100%;height:0;padding-bottom:60%;\"><iframe src=\"data:text/html;charset=utf-8;base64,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\" style=\"position:absolute;width:100%;height:100%;left:0;top:0;border:none !important;\" allowfullscreen webkitallowfullscreen mozallowfullscreen></iframe></div></div>"
      ],
      "text/plain": [
       "<folium.folium.Map at 0xa1ebc18>"
      ]
     },
     "execution_count": 38,
     "metadata": {},
     "output_type": "execute_result"
    }
   ],
   "source": [
    "map_scarb = folium.Map(location=[latitude_scar, longitude_scar], zoom_start=12)\n",
    "\n",
    "# add markers to map\n",
    "for lat, lng, label in zip(scarborough_data['Latitude'], scarborough_data['Longitude'], scarborough_data['Neighbourhood']):\n",
    "    label = folium.Popup(label, parse_html=True)\n",
    "    folium.CircleMarker(\n",
    "        [lat, lng],\n",
    "        radius=5,\n",
    "        popup=label,\n",
    "        color='blue',\n",
    "        fill=True,\n",
    "        fill_color='#3186cc',\n",
    "        fill_opacity=0.7).add_to(map_scarb)  \n",
    "    \n",
    "map_scarb"
   ]
  },
  {
   "cell_type": "markdown",
   "metadata": {},
   "source": [
    "getting the values of 500m radius"
   ]
  },
  {
   "cell_type": "code",
   "execution_count": null,
   "metadata": {},
   "outputs": [],
   "source": []
  }
 ],
 "metadata": {
  "kernelspec": {
   "display_name": "Python 3",
   "language": "python",
   "name": "python3"
  },
  "language_info": {
   "codemirror_mode": {
    "name": "ipython",
    "version": 3
   },
   "file_extension": ".py",
   "mimetype": "text/x-python",
   "name": "python",
   "nbconvert_exporter": "python",
   "pygments_lexer": "ipython3",
   "version": "3.6.5"
  }
 },
 "nbformat": 4,
 "nbformat_minor": 2
}
