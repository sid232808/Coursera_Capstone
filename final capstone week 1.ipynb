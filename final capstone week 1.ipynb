{
 "cells": [
  {
   "cell_type": "markdown",
   "metadata": {},
   "source": [
    "## Battle of neighbourhood project\n",
    "\n",
    "### Introduction\n",
    "\n",
    "#### Scenario: Let us suppose that a small company (startup) runs in a flat cum office with all basic amenities at Washington, USA. But due to some unavoidalbe circumsatnaces the owner of the flat decided to move in and gave a month time for the company people to vacate their flat. Now, the comapny people are in search for a place similar to this place having facilities of nearby resturants, shops, metro or public transport etc.\n",
    "\n",
    "#### Problem: The problem infront of the company people is to get a similar place, atleast having 3 rooms, nearby public transport facility, and more importantly rent should be around 10000 USD/month. Also, this time the office owner are looking to open their office in Manhattan.\n",
    "\n",
    "#### Reusability: This is a common situation for number of low or startup companies. So, this project can be helpful for number of startups.\n",
    "\n",
    "### Data\n",
    "The data for the current site has been obtained from the Foursquare. And data for Manhattan site has been complied from the lab associated with the course and is stored in separate files simultaneously uploaded with the project.\n",
    "\n",
    "This data presents the sufficient information about the necessary requirements and provides better opportunity to accomplish the desired goal."
   ]
  }
 ],
 "metadata": {
  "kernelspec": {
   "display_name": "Python 3",
   "language": "python",
   "name": "python3"
  },
  "language_info": {
   "codemirror_mode": {
    "name": "ipython",
    "version": 3
   },
   "file_extension": ".py",
   "mimetype": "text/x-python",
   "name": "python",
   "nbconvert_exporter": "python",
   "pygments_lexer": "ipython3",
   "version": "3.6.5"
  }
 },
 "nbformat": 4,
 "nbformat_minor": 2
}
