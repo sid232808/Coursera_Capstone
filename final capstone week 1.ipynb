{
 "cells": [
  {
   "cell_type": "markdown",
   "metadata": {},
   "source": [
    "## Battle of neighbourhood project (week 1)\n",
    "\n",
    "### Introduction: \n",
    "The proposed work is projected for the relocation of a startup that runs in Washington to Manhattan. The problem of relocation is very critical in most cases especially when the time needed to relocate is too short. This problem also accompanies a number of associated factors like the amenities usually surrounded by places like the park, restaurant, rental cost, space-specific requirements, and in many of the cases people look for places nearby to public transport. In this project also the startup people are interested in exploring a site in Manhattan similar to their Washington place.    \n",
    "\n",
    "#### Scenario:\n",
    "Let us suppose that a small company (startup) runs in a flat (with 3 rooms, rent approximately USD10000) cum office with all basic amenities at Washington, USA. But due to some unavoidable circumstances, the owner of the flat decided to move in and gave a month's time for the company people to vacate their flat. Now, the company people are in search of a place similar amenities to this place having facilities of nearby restaurants, shops, metro or public transport, etc.\n",
    "\n",
    "#### Problem: \n",
    "This time the startup people decided to open their office at a location in Manhattan. This is because of the reason that their parents reside in a place nearby Manhattan. Their decision to move to a nearby place to their parents is quite understandable. The Problem in front of the company people is to get a similar place to their prior one in Manhattan with at least 3 rooms, nearby public transport facilities, restaurants, and more importantly rent should be around 10000 USD/month.\n",
    "\n",
    "#### Reusability: \n",
    "This is a common situation for a number of people looking for reallocating themselves. So, this project can be helpful for a number of people to search for the places according to their need.\n",
    "\n",
    "### Data\n",
    "The data for the current site has been obtained from the Foursquare. And data for the Manhattan site has been compiled from the lab associated with the course and is stored in separate files simultaneously uploaded with the project.\n",
    "\n",
    "This data presents sufficient information about the necessary requirements and provides a better opportunity to accomplish the desired goal.\n",
    "\n",
    "https://github.com/sid232808/Coursera_Capstone.git"
   ]
  },
  {
   "cell_type": "code",
   "execution_count": null,
   "metadata": {},
   "outputs": [],
   "source": []
  }
 ],
 "metadata": {
  "kernelspec": {
   "display_name": "Python 3",
   "language": "python",
   "name": "python3"
  },
  "language_info": {
   "codemirror_mode": {
    "name": "ipython",
    "version": 3
   },
   "file_extension": ".py",
   "mimetype": "text/x-python",
   "name": "python",
   "nbconvert_exporter": "python",
   "pygments_lexer": "ipython3",
   "version": "3.6.5"
  }
 },
 "nbformat": 4,
 "nbformat_minor": 2
}
